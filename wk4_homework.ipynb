{
 "cells": [
  {
   "cell_type": "markdown",
   "metadata": {},
   "source": [
    "# Week 4 Homework\n",
    "\n",
    "Go through the content in this notebook, and complete the problems."
   ]
  },
  {
   "cell_type": "markdown",
   "metadata": {},
   "source": [
    "# Errors\n",
    "\n",
    "By now, we have seen several pieces of code that have failed to run. In that case, Python does not only raise an error, but also specifies what exactly went wrong."
   ]
  },
  {
   "cell_type": "code",
   "execution_count": 68,
   "metadata": {},
   "outputs": [
    {
     "ename": "SyntaxError",
     "evalue": "incomplete input (495188828.py, line 3)",
     "output_type": "error",
     "traceback": [
      "\u001b[0;36m  Cell \u001b[0;32mIn[68], line 3\u001b[0;36m\u001b[0m\n\u001b[0;31m    print(a+3\u001b[0m\n\u001b[0m             ^\u001b[0m\n\u001b[0;31mSyntaxError\u001b[0m\u001b[0;31m:\u001b[0m incomplete input\n"
     ]
    }
   ],
   "source": [
    "# A syntax error indicates that your code is not properly formatted:\n",
    "a = 2\n",
    "print(a+3"
   ]
  },
  {
   "cell_type": "code",
   "execution_count": 2,
   "metadata": {},
   "outputs": [
    {
     "ename": "TypeError",
     "evalue": "can only concatenate str (not \"int\") to str",
     "output_type": "error",
     "traceback": [
      "\u001b[0;31m---------------------------------------------------------------------------\u001b[0m",
      "\u001b[0;31mTypeError\u001b[0m                                 Traceback (most recent call last)",
      "Cell \u001b[0;32mIn[2], line 3\u001b[0m\n\u001b[1;32m      1\u001b[0m \u001b[38;5;66;03m# A type error indicates that a function received an input of the wrong type\u001b[39;00m\n\u001b[1;32m      2\u001b[0m a \u001b[38;5;241m=\u001b[39m \u001b[38;5;124m'\u001b[39m\u001b[38;5;124m2\u001b[39m\u001b[38;5;124m'\u001b[39m\n\u001b[0;32m----> 3\u001b[0m \u001b[38;5;28mprint\u001b[39m(a\u001b[38;5;241m+\u001b[39m\u001b[38;5;241m3\u001b[39m)\n",
      "\u001b[0;31mTypeError\u001b[0m: can only concatenate str (not \"int\") to str"
     ]
    }
   ],
   "source": [
    "# A type error indicates that a function received an input of the wrong type\n",
    "a = '2'\n",
    "print(a+3)"
   ]
  },
  {
   "cell_type": "code",
   "execution_count": 3,
   "metadata": {},
   "outputs": [
    {
     "ename": "IndexError",
     "evalue": "list index out of range",
     "output_type": "error",
     "traceback": [
      "\u001b[0;31m---------------------------------------------------------------------------\u001b[0m",
      "\u001b[0;31mIndexError\u001b[0m                                Traceback (most recent call last)",
      "Cell \u001b[0;32mIn[3], line 3\u001b[0m\n\u001b[1;32m      1\u001b[0m \u001b[38;5;66;03m# An index error suggests that it is not possible to index an object in the attempted way.\u001b[39;00m\n\u001b[1;32m      2\u001b[0m a \u001b[38;5;241m=\u001b[39m [\u001b[38;5;241m2\u001b[39m, \u001b[38;5;241m3\u001b[39m]\n\u001b[0;32m----> 3\u001b[0m a[\u001b[38;5;241m3\u001b[39m]\n",
      "\u001b[0;31mIndexError\u001b[0m: list index out of range"
     ]
    }
   ],
   "source": [
    "# An index error suggests that it is not possible to index an object in the attempted way.\n",
    "a = [2, 3]\n",
    "a[3]"
   ]
  },
  {
   "cell_type": "markdown",
   "metadata": {},
   "source": [
    "You can return errors yourself using the command `raise`:"
   ]
  },
  {
   "cell_type": "code",
   "execution_count": null,
   "metadata": {},
   "outputs": [],
   "source": [
    "a = 3\n",
    "if a == 3:\n",
    "  raise ValueError('a should not be three')"
   ]
  },
  {
   "cell_type": "markdown",
   "metadata": {},
   "source": [
    "## More info on functions: Args and kwargs\n",
    "\n",
    "You can also use a piece of code that allows you to provide arbitrary arguments (with or without keywords) to your function. If you use `*args` as one of the arguments of your function, this will take any unnamed argument and put all of them in a tuple:"
   ]
  },
  {
   "cell_type": "code",
   "execution_count": 4,
   "metadata": {},
   "outputs": [
    {
     "name": "stdout",
     "output_type": "stream",
     "text": [
      "1\n",
      "(2, 3)\n"
     ]
    }
   ],
   "source": [
    "def f(a, *args):\n",
    "  print(a)\n",
    "  print(args)\n",
    "f(1, 2, 3)"
   ]
  },
  {
   "cell_type": "code",
   "execution_count": 5,
   "metadata": {},
   "outputs": [
    {
     "name": "stdout",
     "output_type": "stream",
     "text": [
      "1\n",
      "(2, 3, 4)\n"
     ]
    }
   ],
   "source": [
    "f(1, 2, 3, 4)"
   ]
  },
  {
   "cell_type": "code",
   "execution_count": 6,
   "metadata": {},
   "outputs": [
    {
     "name": "stdout",
     "output_type": "stream",
     "text": [
      "1\n",
      "(2, 3)\n",
      "1\n",
      "(2, 3, 4)\n"
     ]
    }
   ],
   "source": [
    "# The name args is not important\n",
    "def f(a, *variable):\n",
    "  print(a)\n",
    "  print(variable)\n",
    "f(1, 2, 3)\n",
    "f(1, 2, 3, 4)"
   ]
  },
  {
   "cell_type": "markdown",
   "metadata": {},
   "source": [
    "Similarly, if you put two asterisks in front of your variable (e.g. ``**kwargs``), it will assign all names variables to kwargs (in a dictionary format)."
   ]
  },
  {
   "cell_type": "code",
   "execution_count": 7,
   "metadata": {},
   "outputs": [
    {
     "name": "stdout",
     "output_type": "stream",
     "text": [
      "1\n",
      "{'b': 2, 'c': 3}\n"
     ]
    }
   ],
   "source": [
    "def f(a, **kwargs):\n",
    "  print(a)\n",
    "  print(kwargs)\n",
    "f(a=1, b=2, c=3)"
   ]
  },
  {
   "cell_type": "markdown",
   "metadata": {},
   "source": [
    "Again, we're mostly explaining this so you are familiar with it later on, when it will become extremely useful."
   ]
  },
  {
   "cell_type": "markdown",
   "metadata": {},
   "source": [
    "## Readability - Type Hinting \n",
    "Type hints indicate the types of variables, function parameters, and return values. They can help other developers understand what types of data your function expects and what it will return. Though it's not necessary to type hint, it helps improves the code readability and helps other people troubleshoot what's going on if they run into an issue."
   ]
  },
  {
   "cell_type": "code",
   "execution_count": 10,
   "metadata": {},
   "outputs": [],
   "source": [
    "def surface_area_of_cube(edge_length: float) -> str:\n",
    "    return f\"The surface area of the cube is {6 * edge_length ** 2}.\"\n"
   ]
  },
  {
   "cell_type": "markdown",
   "metadata": {},
   "source": [
    "The function surface_area_of_cube takes an argument expected to be an instance of float, as indicated by the type hint edge_length: float. The function is expected to return an instance of str, as indicated by the -> str hint.\n",
    "\n",
    "# Readability - Docstrings\n",
    "\n",
    "Docstrings are great for understanding the functionality of the larger part of the code, i.e., the general purpose of any class or function. You can write whatever you want in it, though people generally prefer to follow certain style guide conventions, e.g. [PEP-257](https://peps.python.org/pep-0257/), or [numpydoc](https://numpydoc.readthedocs.io/en/latest/format.html)"
   ]
  },
  {
   "cell_type": "code",
   "execution_count": 12,
   "metadata": {},
   "outputs": [],
   "source": [
    "def surface_area_of_cube(edge_length: float) -> str:\n",
    "    \"\"\"\n",
    "    Hahaha I am writing whatever I want! this is going to output the surface of a cuuubbeeeeee :) \n",
    "    \"\"\"\n",
    "    return f\"The surface area of the cube is {6 * edge_length ** 2}.\""
   ]
  },
  {
   "cell_type": "code",
   "execution_count": 13,
   "metadata": {},
   "outputs": [
    {
     "name": "stdout",
     "output_type": "stream",
     "text": [
      "\u001b[0;31mSignature:\u001b[0m \u001b[0msurface_area_of_cube\u001b[0m\u001b[0;34m(\u001b[0m\u001b[0medge_length\u001b[0m\u001b[0;34m:\u001b[0m \u001b[0mfloat\u001b[0m\u001b[0;34m)\u001b[0m \u001b[0;34m->\u001b[0m \u001b[0mstr\u001b[0m\u001b[0;34m\u001b[0m\u001b[0;34m\u001b[0m\u001b[0m\n",
      "\u001b[0;31mDocstring:\u001b[0m Hahaha I am writing whatever I want! this is going to output the surface of a cuuubbeeeeee :) \n",
      "\u001b[0;31mFile:\u001b[0m      /var/folders/t5/4_yl1p0j0fn22bsb5rmfnnv80000gp/T/ipykernel_16321/2187800515.py\n",
      "\u001b[0;31mType:\u001b[0m      function"
     ]
    }
   ],
   "source": [
    "surface_area_of_cube?"
   ]
  },
  {
   "cell_type": "code",
   "execution_count": 14,
   "metadata": {},
   "outputs": [],
   "source": [
    "# Sharon likes to use numpydoc convention.\n",
    "\n",
    "def surface_area_of_cube(edge_length: float) -> str:\n",
    "    \"\"\"\n",
    "    A unit agnostic function that calculates the surface area of a cube based on it's edge length. \n",
    "\n",
    "    Parameters\n",
    "    ----------\n",
    "    edge_length : float\n",
    "        The length of an edge for a given cube\n",
    "\n",
    "    Returns\n",
    "    -------\n",
    "    string\n",
    "        Human readable message detailing the surface area of the cube\n",
    "\n",
    "    \"\"\"\n",
    "    return f\"The surface area of the cube is {6 * edge_length ** 2}.\""
   ]
  },
  {
   "cell_type": "code",
   "execution_count": 15,
   "metadata": {},
   "outputs": [
    {
     "name": "stdout",
     "output_type": "stream",
     "text": [
      "\u001b[0;31mSignature:\u001b[0m \u001b[0msurface_area_of_cube\u001b[0m\u001b[0;34m(\u001b[0m\u001b[0medge_length\u001b[0m\u001b[0;34m:\u001b[0m \u001b[0mfloat\u001b[0m\u001b[0;34m)\u001b[0m \u001b[0;34m->\u001b[0m \u001b[0mstr\u001b[0m\u001b[0;34m\u001b[0m\u001b[0;34m\u001b[0m\u001b[0m\n",
      "\u001b[0;31mDocstring:\u001b[0m\n",
      "A unit agnostic function that calculates the surface area of a cube based on it's edge length. \n",
      "\n",
      "Parameters\n",
      "----------\n",
      "edge_length : float\n",
      "    The length of an edge for a given cube\n",
      "\n",
      "Returns\n",
      "-------\n",
      "string\n",
      "    Human readable message detailing the surface area of the cube\n",
      "\u001b[0;31mFile:\u001b[0m      /var/folders/t5/4_yl1p0j0fn22bsb5rmfnnv80000gp/T/ipykernel_16321/89576434.py\n",
      "\u001b[0;31mType:\u001b[0m      function"
     ]
    }
   ],
   "source": [
    "surface_area_of_cube?"
   ]
  },
  {
   "cell_type": "markdown",
   "metadata": {},
   "source": [
    "## Problem 1 (list comprehension):\n",
    "1. Create a list using **list comprehension** where any values between 2 and 10 inclusive that are divisible by 3 are added to the list. Assign the list to a variable called `divisible_3s`.\n",
    "2. Using a for loop, print the index and the value at that index for every element in `divisible_3s`.\n",
    "3. Create a dictionary using list comprehension where the key is $x^3$ and the value is $x^2$ for x's between 1 and 4 inclusive. Assign the dictionary to variable `cube_square`.\n",
    "4. Print the key and value for every key, value pair in `cube_square`"
   ]
  },
  {
   "cell_type": "code",
   "execution_count": 19,
   "metadata": {},
   "outputs": [],
   "source": [
    "#1.1\n",
    "divisible_3s = [i for i in range(2,11) if i%3 == 0]"
   ]
  },
  {
   "cell_type": "code",
   "execution_count": 20,
   "metadata": {},
   "outputs": [
    {
     "name": "stdout",
     "output_type": "stream",
     "text": [
      "0 3\n",
      "1 6\n",
      "2 9\n"
     ]
    }
   ],
   "source": [
    "#1.2\n",
    "for j in range(len(divisible_3s)):\n",
    "    print(j, divisible_3s[j])"
   ]
  },
  {
   "cell_type": "code",
   "execution_count": 22,
   "metadata": {},
   "outputs": [],
   "source": [
    "#1.3\n",
    "cube_square = {x**3:x**2 for x in range(1,5)}\n"
   ]
  },
  {
   "cell_type": "code",
   "execution_count": 29,
   "metadata": {},
   "outputs": [
    {
     "name": "stdout",
     "output_type": "stream",
     "text": [
      "1 1\n",
      "8 4\n",
      "27 9\n",
      "64 16\n"
     ]
    }
   ],
   "source": [
    "#1.4\n",
    "for k in cube_square.keys():\n",
    "    print(k, cube_square[k])"
   ]
  },
  {
   "cell_type": "markdown",
   "metadata": {},
   "source": [
    "## Problem 2 (error raises, default arguments)\n",
    "1. Write a function `integer_add` that takes two arguments and adds them together. If either of the arguments are not integers, raise an error. What is the correct error for this issue? \n",
    "2. Set default arguments of the two arguments to 1 for this function."
   ]
  },
  {
   "cell_type": "code",
   "execution_count": 45,
   "metadata": {},
   "outputs": [],
   "source": [
    "#2.1\n",
    "def integer_add(a: int, b: int) -> int:\n",
    "    \"\"\"\n",
    "    Adds two integers together\n",
    "    Args:\n",
    "        a (int): First integer to add\n",
    "        b (int): Second integer to add\n",
    "    Returns:\n",
    "        int: Sum of a and b\n",
    "    \"\"\"\n",
    "\n",
    "    if type(a) != int or type(b) != int:\n",
    "        raise TypeError(\"input two integers\")\n",
    "    return a + b"
   ]
  },
  {
   "cell_type": "code",
   "execution_count": 46,
   "metadata": {},
   "outputs": [],
   "source": [
    "#2.2\n",
    "#2.1\n",
    "def integer_add(a = 1, b = 1) -> int:\n",
    "    \"\"\"\n",
    "    Adds two integers together\n",
    "    Args:\n",
    "        a (int): First integer to add\n",
    "        b (int): Second integer to add\n",
    "    Returns:\n",
    "        int: Sum of a and b\n",
    "    \"\"\"\n",
    "\n",
    "    if type(a) != int or type(b) != int:\n",
    "        raise TypeError(\"input two integers\")\n",
    "    return a + b"
   ]
  },
  {
   "cell_type": "markdown",
   "metadata": {},
   "source": [
    "## Problem 3 (try/except, break/pass/continue):\n",
    "1. Use try/except to write a FUNCTION that takes integers a and b and prints a/b. If it gets an error (for example b is 0), it should instead print \"Cannot divide by zero\". Try your code with a few different choices of a and b to make sure it works correctly. \n",
    "- **Additionally, write a docstring for that funtion.**\n",
    "\n",
    "2. Modify your function so that it takes lists a and b, where numbers are paired by their index, and prints out a/b for each pair. If you run into an error, you must use pass, continue or break to print \"Cannot divide by zero\", and then continue printing the rest of the pairs. \n",
    "- **Use type hinting to indicate that a and b take in a list.**"
   ]
  },
  {
   "cell_type": "code",
   "execution_count": 60,
   "metadata": {},
   "outputs": [],
   "source": [
    "#3.1\n",
    "def divide(a: int, b: int) -> float:\n",
    "    \"\"\"\n",
    "    Divides one integer by a second integer using float division\n",
    "    Args:\n",
    "        a (int): Numerator\n",
    "        b (int): Denominator\n",
    "    Returns:\n",
    "        float: Value of a divided by b\n",
    "    \"\"\"\n",
    "    \n",
    "    try:\n",
    "        return a/b\n",
    "    except ZeroDivisionError:\n",
    "        print(\"Cannot divide by zero\")\n",
    "    except TypeError:\n",
    "        print(\"Input to integers\")\n",
    "\n"
   ]
  },
  {
   "cell_type": "code",
   "execution_count": 61,
   "metadata": {},
   "outputs": [],
   "source": [
    "#3.2 \n",
    "def divide(a: list, b: list):\n",
    "    \"\"\"\n",
    "    Divides ints in first list by ins in second list\n",
    "    Args:\n",
    "        a (list): First list, with entries as numerators\n",
    "        b (list): Second list, with entries as denominator\n",
    "    Returns:\n",
    "    \"\"\"\n",
    "    if len(a) != len(b):\n",
    "        print(\"Lists must be same length\")\n",
    "    else:\n",
    "        for i in range(len(a)):\n",
    "            if type(a[i]) != int or type(b[i]) != int:\n",
    "                print(\"Lists must contain only integers\")\n",
    "            else:\n",
    "                try:\n",
    "                    print(a[i]/b[i])\n",
    "                except ZeroDivisionError:\n",
    "                    print(\"Cannot divide by zero\")\n",
    "                    continue"
   ]
  },
  {
   "cell_type": "markdown",
   "metadata": {},
   "source": [
    "# Problem 4\n",
    "\n",
    "Given an array of ints, return True if the array contains a 2 next to a 2 somewhere.\n",
    "\n",
    "\n",
    "has22([1, 2, 2]) → True\n",
    "has22([1, 2, 1, 2]) → False\n",
    "has22([2, 1, 2]) → False\n",
    "\n",
    "**Write a docstring and use type hinting for this function as well.**"
   ]
  },
  {
   "cell_type": "code",
   "execution_count": 69,
   "metadata": {},
   "outputs": [],
   "source": [
    "#4\n",
    "def has22(a: list) -> bool:\n",
    "    \"\"\"\n",
    "    Return True if list contains adjacent twos and False otherwise\n",
    "    \n",
    "    Args:\n",
    "        a (list): list of integers\n",
    "\n",
    "    Returns:\n",
    "        bool: True if list contains adjacent twos and False otherwise\n",
    "    \"\"\"\n",
    "    adjacent_twos = False\n",
    "    for i in range(len(a)-1):\n",
    "        if a[i] == 2 and a[i+1] == 2:\n",
    "            adjacent_twos = True\n",
    "    return adjacent_twos"
   ]
  },
  {
   "cell_type": "markdown",
   "metadata": {},
   "source": [
    "## Problem 5\n",
    "\n",
    "You and your friends are really into the newest season of some reality TV show where everyone speed-dates each other, and you are trying to think of couple names (ship names) for several pairs. A common heuristic for coming up with couple names is combining the first syllable of one person's name with the LAST syllable of the other person's name. So, for example, the couple name for `Sharon` and `Janet` would be `Shanet`, combining the first syllable `Sha` from Sharon and the last syllable `net` from `Janet`.\n",
    " \n",
    "\n",
    "Rules for syllable parsing:\n",
    "If a vowel (letters aeiou and **sometimes** y) is followed by a consonant, that vowel marks the end of the syllable. (e.g. in `Sharon`, `a` is followed by `r`, and thus, the first syllable is `Sha`). EXCEPT, if `sh` follows a vowel, then `sh` marks the end of that syllable. e.g. the first syllable of `Ashley` is `Ash`, not `As`\n",
    " \n",
    "\n",
    "However, what if you have a couple with the names `Aaron` and `Sharon`? Combining the first syllable and last syllable from those two names would yield `Aaron`, and switching the order (where we take the first syllable from Sharon, and the last syllable from Aaron) would yield `Sharon`. These are BORING couple names, because the output is the same as one of the names of the people in the couple. In these cases, you would want to combine the first syllable from `Aaron` with the first syllable from `Sharon`, thus yielding `AaSha`, a much better couple name. [If it makes it easier, I will accept `Ronron` as an answer too.]\n",
    " \n",
    "\n",
    "Write a function called `name_generator` that sets variable `couple_name` to a suitable couple name for a couple with names assigned to variables `person1` and `person2`.\n",
    "\n",
    "\n",
    "I will try AT LEAST 7 test cases when grading, but I will give you 4 of them. Pass at least 3 to get full credit for the problem. Extra credit will be assigned based on the number of test cases passed. Note that this is CASE SENSITIVE.\n",
    "1. `Mobi` and `Betsy` \n",
    "2. `Ellie` and `Kollin`\n",
    "3. `Sam` and `Justin`\n",
    "4. `Shelly` and `Yonathan`"
   ]
  },
  {
   "cell_type": "code",
   "execution_count": 45,
   "metadata": {},
   "outputs": [],
   "source": [
    "def name_generator(person1 : str, person2 : str) -> str:\n",
    "    ##### Put your work below this line.\n",
    "    \n",
    "    # Note that I chose for only the first letter of the couple name to be capitalized in all cases \n",
    "    # (e.g., Aasha instead of AaSha) for consistency\n",
    "    \n",
    "    person1_lower = person1.lower()\n",
    "    person2_lower = person2.lower()\n",
    "    vowels = [\"a\", \"e\", \"i\", \"o\", \"u\", \"y\"]\n",
    "\n",
    "    syllables1 = []    \n",
    "    syllable_start = 0\n",
    "    final_vowels = False\n",
    "    for i in range(len(person1)-1):\n",
    "        if (person1_lower[i] in vowels) and (person1_lower[i+1] not in vowels):\n",
    "            if len(person1) - i > 2:\n",
    "                if person1[i+1:i+3] != \"sh\":\n",
    "                    syllables1.append(person1[syllable_start:i+1])\n",
    "                    syllable_start = i+1\n",
    "            else:\n",
    "                syllables1.append(person1[syllable_start:i+1])\n",
    "                syllable_start = i+1\n",
    "        if person1[i] == \"h\" and i > 1:\n",
    "            if person1[i-1] == \"s\":\n",
    "                syllables1.append(person1[syllable_start:i+1])\n",
    "                syllable_start = i+1\n",
    "    syllables1.append(person1[syllable_start:len(person1)+1])\n",
    "    for i in syllables1[-1]:\n",
    "        if i in vowels:\n",
    "            final_vowels = True\n",
    "    if not final_vowels and len(syllables1) > 1:\n",
    "        last_syllable = syllables1.pop(-1)\n",
    "        syllables1[-1] = syllables1[-1] + last_syllable\n",
    "\n",
    "    syllables2 = []    \n",
    "    syllable_start = 0\n",
    "    final_vowels = False\n",
    "    for i in range(len(person2)-1):\n",
    "        if (person2_lower[i] in vowels) and (person2_lower[i+1] not in vowels):\n",
    "            if len(person2) - i > 2:\n",
    "                if person2[i+1:i+3] != \"sh\":\n",
    "                    syllables2.append(person2[syllable_start:i+1])\n",
    "                    syllable_start = i+1\n",
    "            else:\n",
    "                syllables2.append(person2[syllable_start:i+1])\n",
    "                syllable_start = i+1\n",
    "        if person2[i] == \"h\" and i > 1:\n",
    "            if person2[i-1] == \"s\":\n",
    "                syllables2.append(person2[syllable_start:i+1])\n",
    "                syllable_start = i+1\n",
    "    syllables2.append(person2[syllable_start:len(person2)+1])\n",
    "    for i in syllables2[-1].lower():\n",
    "        if i in vowels:\n",
    "            final_vowels = True\n",
    "    if not final_vowels and len(syllables2) > 1:\n",
    "        last_syllable = syllables2.pop(-1)\n",
    "        syllables2[-1] = syllables2[-1] + last_syllable\n",
    "\n",
    "    if (syllables1[0] != syllables2[0]) and (syllables1[-1] != syllables2[-1]):\n",
    "        couple_name = syllables1[0] + syllables2[-1]\n",
    "    else:\n",
    "        couple_name = syllables1[0] + syllables2[0]\n",
    "    couple_name = couple_name.lower().capitalize()\n",
    "\n",
    "    #### Put your work above this line \n",
    "    return couple_name"
   ]
  }
 ],
 "metadata": {
  "kernelspec": {
   "display_name": "Python 3",
   "language": "python",
   "name": "python3"
  },
  "language_info": {
   "codemirror_mode": {
    "name": "ipython",
    "version": 3
   },
   "file_extension": ".py",
   "mimetype": "text/x-python",
   "name": "python",
   "nbconvert_exporter": "python",
   "pygments_lexer": "ipython3",
   "version": "3.12.4"
  }
 },
 "nbformat": 4,
 "nbformat_minor": 2
}
